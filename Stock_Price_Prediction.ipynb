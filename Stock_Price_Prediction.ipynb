{
  "nbformat": 4,
  "nbformat_minor": 0,
  "metadata": {
    "colab": {
      "name": "Stock Price Prediction.ipynb",
      "provenance": [],
      "collapsed_sections": []
    },
    "kernelspec": {
      "name": "python3",
      "display_name": "Python 3"
    },
    "accelerator": "GPU"
  },
  "cells": [
    {
      "cell_type": "code",
      "metadata": {
        "id": "BR1hYjmCEzFi",
        "colab_type": "code",
        "colab": {}
      },
      "source": [
        "!pip install -q keras"
      ],
      "execution_count": 0,
      "outputs": []
    },
    {
      "cell_type": "code",
      "metadata": {
        "id": "83HDvWkWHc_k",
        "colab_type": "code",
        "colab": {}
      },
      "source": [
        "import pandas as pd\n",
        "df = pd.read_csv('/content/AXISBANK.csv')"
      ],
      "execution_count": 0,
      "outputs": []
    },
    {
      "cell_type": "code",
      "metadata": {
        "id": "6VePF2odHlI2",
        "colab_type": "code",
        "outputId": "15dae31e-c7ce-4464-bf36-56ac066a100e",
        "colab": {
          "base_uri": "https://localhost:8080/",
          "height": 326
        }
      },
      "source": [
        "df.head()"
      ],
      "execution_count": 33,
      "outputs": [
        {
          "output_type": "execute_result",
          "data": {
            "text/html": [
              "<div>\n",
              "<style scoped>\n",
              "    .dataframe tbody tr th:only-of-type {\n",
              "        vertical-align: middle;\n",
              "    }\n",
              "\n",
              "    .dataframe tbody tr th {\n",
              "        vertical-align: top;\n",
              "    }\n",
              "\n",
              "    .dataframe thead th {\n",
              "        text-align: right;\n",
              "    }\n",
              "</style>\n",
              "<table border=\"1\" class=\"dataframe\">\n",
              "  <thead>\n",
              "    <tr style=\"text-align: right;\">\n",
              "      <th></th>\n",
              "      <th>Date</th>\n",
              "      <th>Symbol</th>\n",
              "      <th>Series</th>\n",
              "      <th>Prev Close</th>\n",
              "      <th>Open</th>\n",
              "      <th>High</th>\n",
              "      <th>Low</th>\n",
              "      <th>Last</th>\n",
              "      <th>Close</th>\n",
              "      <th>VWAP</th>\n",
              "      <th>Volume</th>\n",
              "      <th>Turnover</th>\n",
              "      <th>Trades</th>\n",
              "      <th>Deliverable Volume</th>\n",
              "      <th>%Deliverble</th>\n",
              "    </tr>\n",
              "  </thead>\n",
              "  <tbody>\n",
              "    <tr>\n",
              "      <th>0</th>\n",
              "      <td>2000-01-03</td>\n",
              "      <td>UTIBANK</td>\n",
              "      <td>EQ</td>\n",
              "      <td>24.70</td>\n",
              "      <td>26.7</td>\n",
              "      <td>26.70</td>\n",
              "      <td>26.70</td>\n",
              "      <td>26.7</td>\n",
              "      <td>26.70</td>\n",
              "      <td>26.70</td>\n",
              "      <td>112100</td>\n",
              "      <td>2.993070e+11</td>\n",
              "      <td>NaN</td>\n",
              "      <td>NaN</td>\n",
              "      <td>NaN</td>\n",
              "    </tr>\n",
              "    <tr>\n",
              "      <th>1</th>\n",
              "      <td>2000-01-04</td>\n",
              "      <td>UTIBANK</td>\n",
              "      <td>EQ</td>\n",
              "      <td>26.70</td>\n",
              "      <td>27.0</td>\n",
              "      <td>28.70</td>\n",
              "      <td>26.50</td>\n",
              "      <td>27.0</td>\n",
              "      <td>26.85</td>\n",
              "      <td>27.24</td>\n",
              "      <td>234500</td>\n",
              "      <td>6.387275e+11</td>\n",
              "      <td>NaN</td>\n",
              "      <td>NaN</td>\n",
              "      <td>NaN</td>\n",
              "    </tr>\n",
              "    <tr>\n",
              "      <th>2</th>\n",
              "      <td>2000-01-05</td>\n",
              "      <td>UTIBANK</td>\n",
              "      <td>EQ</td>\n",
              "      <td>26.85</td>\n",
              "      <td>26.0</td>\n",
              "      <td>27.75</td>\n",
              "      <td>25.50</td>\n",
              "      <td>26.4</td>\n",
              "      <td>26.30</td>\n",
              "      <td>26.24</td>\n",
              "      <td>170100</td>\n",
              "      <td>4.462980e+11</td>\n",
              "      <td>NaN</td>\n",
              "      <td>NaN</td>\n",
              "      <td>NaN</td>\n",
              "    </tr>\n",
              "    <tr>\n",
              "      <th>3</th>\n",
              "      <td>2000-01-06</td>\n",
              "      <td>UTIBANK</td>\n",
              "      <td>EQ</td>\n",
              "      <td>26.30</td>\n",
              "      <td>25.8</td>\n",
              "      <td>27.00</td>\n",
              "      <td>25.80</td>\n",
              "      <td>25.9</td>\n",
              "      <td>25.95</td>\n",
              "      <td>26.27</td>\n",
              "      <td>102100</td>\n",
              "      <td>2.681730e+11</td>\n",
              "      <td>NaN</td>\n",
              "      <td>NaN</td>\n",
              "      <td>NaN</td>\n",
              "    </tr>\n",
              "    <tr>\n",
              "      <th>4</th>\n",
              "      <td>2000-01-07</td>\n",
              "      <td>UTIBANK</td>\n",
              "      <td>EQ</td>\n",
              "      <td>25.95</td>\n",
              "      <td>25.0</td>\n",
              "      <td>26.00</td>\n",
              "      <td>24.25</td>\n",
              "      <td>25.0</td>\n",
              "      <td>24.80</td>\n",
              "      <td>25.04</td>\n",
              "      <td>62600</td>\n",
              "      <td>1.567220e+11</td>\n",
              "      <td>NaN</td>\n",
              "      <td>NaN</td>\n",
              "      <td>NaN</td>\n",
              "    </tr>\n",
              "  </tbody>\n",
              "</table>\n",
              "</div>"
            ],
            "text/plain": [
              "         Date   Symbol Series  ...  Trades  Deliverable Volume  %Deliverble\n",
              "0  2000-01-03  UTIBANK     EQ  ...     NaN                 NaN          NaN\n",
              "1  2000-01-04  UTIBANK     EQ  ...     NaN                 NaN          NaN\n",
              "2  2000-01-05  UTIBANK     EQ  ...     NaN                 NaN          NaN\n",
              "3  2000-01-06  UTIBANK     EQ  ...     NaN                 NaN          NaN\n",
              "4  2000-01-07  UTIBANK     EQ  ...     NaN                 NaN          NaN\n",
              "\n",
              "[5 rows x 15 columns]"
            ]
          },
          "metadata": {
            "tags": []
          },
          "execution_count": 33
        }
      ]
    },
    {
      "cell_type": "code",
      "metadata": {
        "id": "UU-rE0_UIave",
        "colab_type": "code",
        "colab": {}
      },
      "source": [
        "df1 = df.reset_index()['Close']"
      ],
      "execution_count": 0,
      "outputs": []
    },
    {
      "cell_type": "code",
      "metadata": {
        "id": "QYRSeKlfJA5w",
        "colab_type": "code",
        "outputId": "dff86839-5917-4fc8-d300-7541e5bae24a",
        "colab": {
          "base_uri": "https://localhost:8080/",
          "height": 34
        }
      },
      "source": [
        "df.shape"
      ],
      "execution_count": 35,
      "outputs": [
        {
          "output_type": "execute_result",
          "data": {
            "text/plain": [
              "(5041, 15)"
            ]
          },
          "metadata": {
            "tags": []
          },
          "execution_count": 35
        }
      ]
    },
    {
      "cell_type": "code",
      "metadata": {
        "id": "vfzMAEq6JEAw",
        "colab_type": "code",
        "outputId": "06909468-4f9a-447a-e65e-281bb92756af",
        "colab": {
          "base_uri": "https://localhost:8080/",
          "height": 34
        }
      },
      "source": [
        "df1.shape"
      ],
      "execution_count": 36,
      "outputs": [
        {
          "output_type": "execute_result",
          "data": {
            "text/plain": [
              "(5041,)"
            ]
          },
          "metadata": {
            "tags": []
          },
          "execution_count": 36
        }
      ]
    },
    {
      "cell_type": "code",
      "metadata": {
        "id": "_ouZ2Qw2JFyS",
        "colab_type": "code",
        "outputId": "01861704-14fb-4600-a17a-5479ceebf0f7",
        "colab": {
          "base_uri": "https://localhost:8080/",
          "height": 221
        }
      },
      "source": [
        "df1"
      ],
      "execution_count": 37,
      "outputs": [
        {
          "output_type": "execute_result",
          "data": {
            "text/plain": [
              "0        26.70\n",
              "1        26.85\n",
              "2        26.30\n",
              "3        25.95\n",
              "4        24.80\n",
              "         ...  \n",
              "5036    326.80\n",
              "5037    341.40\n",
              "5038    359.75\n",
              "5039    368.15\n",
              "5040    379.00\n",
              "Name: Close, Length: 5041, dtype: float64"
            ]
          },
          "metadata": {
            "tags": []
          },
          "execution_count": 37
        }
      ]
    },
    {
      "cell_type": "code",
      "metadata": {
        "id": "7q9mCgEbJjtd",
        "colab_type": "code",
        "outputId": "f16c82f9-d3c4-4d13-d456-44cbdd769e59",
        "colab": {
          "base_uri": "https://localhost:8080/",
          "height": 282
        }
      },
      "source": [
        "import matplotlib.pyplot as plt\n",
        "plt.plot(df1)"
      ],
      "execution_count": 38,
      "outputs": [
        {
          "output_type": "execute_result",
          "data": {
            "text/plain": [
              "[<matplotlib.lines.Line2D at 0x7f16635fbe80>]"
            ]
          },
          "metadata": {
            "tags": []
          },
          "execution_count": 38
        },
        {
          "output_type": "display_data",
          "data": {
            "image/png": "[encoded data removed]",
            "text/plain": [
              "<Figure size 432x288 with 1 Axes>"
            ]
          },
          "metadata": {
            "tags": [],
            "needs_background": "light"
          }
        }
      ]
    },
    {
      "cell_type": "code",
      "metadata": {
        "id": "yfMzm5i-JspN",
        "colab_type": "code",
        "colab": {}
      },
      "source": [
        "#data preprocessing\n",
        "import numpy as np\n",
        "from sklearn.preprocessing import MinMaxScaler\n",
        "scaler = MinMaxScaler(feature_range = (0,1))\n",
        "df1 = scaler.fit_transform(np.array(df1).reshape(-1,1))"
      ],
      "execution_count": 0,
      "outputs": []
    },
    {
      "cell_type": "code",
      "metadata": {
        "id": "5CET9dI_muPw",
        "colab_type": "code",
        "colab": {
          "base_uri": "https://localhost:8080/",
          "height": 136
        },
        "outputId": "3dbdaf38-46ce-47ef-fb51-1ba9ef45d4c5"
      },
      "source": [
        "df1"
      ],
      "execution_count": 40,
      "outputs": [
        {
          "output_type": "execute_result",
          "data": {
            "text/plain": [
              "array([[0.00227364],\n",
              "       [0.00234859],\n",
              "       [0.00207376],\n",
              "       ...,\n",
              "       [0.16869878],\n",
              "       [0.17289626],\n",
              "       [0.17831801]])"
            ]
          },
          "metadata": {
            "tags": []
          },
          "execution_count": 40
        }
      ]
    },
    {
      "cell_type": "code",
      "metadata": {
        "id": "gS19xaVVm48c",
        "colab_type": "code",
        "colab": {}
      },
      "source": [
        "#train test split\n",
        "training_size = int(len(df1)*0.65)\n",
        "test_size = len(df1)-training_size\n",
        "train_data,test_data = df1[0:training_size,:],df1[training_size:len(df1),:]"
      ],
      "execution_count": 0,
      "outputs": []
    },
    {
      "cell_type": "code",
      "metadata": {
        "id": "EQAJ4JOQn7vj",
        "colab_type": "code",
        "colab": {
          "base_uri": "https://localhost:8080/",
          "height": 51
        },
        "outputId": "c1fe8636-c7bd-4e1d-8fd4-fe57aa4a9d90"
      },
      "source": [
        "print(\"Training size : \"+ str(training_size))\n",
        "print(\"Testing size : \"+str(test_size))"
      ],
      "execution_count": 42,
      "outputs": [
        {
          "output_type": "stream",
          "text": [
            "Training size : 3276\n",
            "Testing size : 1765\n"
          ],
          "name": "stdout"
        }
      ]
    },
    {
      "cell_type": "code",
      "metadata": {
        "id": "ZSiLVXTYn953",
        "colab_type": "code",
        "colab": {
          "base_uri": "https://localhost:8080/",
          "height": 136
        },
        "outputId": "823f557b-0de6-45a7-a5a9-833ffc928049"
      },
      "source": [
        "train_data"
      ],
      "execution_count": 43,
      "outputs": [
        {
          "output_type": "execute_result",
          "data": {
            "text/plain": [
              "array([[0.00227364],\n",
              "       [0.00234859],\n",
              "       [0.00207376],\n",
              "       ...,\n",
              "       [0.7273386 ],\n",
              "       [0.71806916],\n",
              "       [0.71854387]])"
            ]
          },
          "metadata": {
            "tags": []
          },
          "execution_count": 43
        }
      ]
    },
    {
      "cell_type": "code",
      "metadata": {
        "id": "Tgnzxo-woi2B",
        "colab_type": "code",
        "colab": {
          "base_uri": "https://localhost:8080/",
          "height": 136
        },
        "outputId": "8b0e8d64-458e-4f86-a0e6-f40812af53b9"
      },
      "source": [
        "test_data"
      ],
      "execution_count": 44,
      "outputs": [
        {
          "output_type": "execute_result",
          "data": {
            "text/plain": [
              "array([[0.71876874],\n",
              "       [0.71389666],\n",
              "       [0.73553368],\n",
              "       ...,\n",
              "       [0.16869878],\n",
              "       [0.17289626],\n",
              "       [0.17831801]])"
            ]
          },
          "metadata": {
            "tags": []
          },
          "execution_count": 44
        }
      ]
    },
    {
      "cell_type": "code",
      "metadata": {
        "id": "xrEpJB2Sokl2",
        "colab_type": "code",
        "colab": {}
      },
      "source": [
        "#convert array of values into a dataset matrix\n",
        "def create_dataset(dataset, time_step):\n",
        "  X_data, Y_data = [],[]\n",
        "  for i in range(len(dataset)-time_step-1):\n",
        "    a = dataset[i:(i+time_step),0]\n",
        "    X_data.append(a)\n",
        "    Y_data.append(dataset[(i+time_step),0])\n",
        "  return np.array(X_data), np.array(Y_data)"
      ],
      "execution_count": 0,
      "outputs": []
    },
    {
      "cell_type": "code",
      "metadata": {
        "id": "4mNtuPG3rO-N",
        "colab_type": "code",
        "colab": {}
      },
      "source": [
        "time_step = 100\n",
        "X_train, Y_train = create_dataset(train_data, time_step)\n",
        "X_test, Y_test = create_dataset(test_data, time_step)"
      ],
      "execution_count": 0,
      "outputs": []
    },
    {
      "cell_type": "code",
      "metadata": {
        "id": "Mv535H0mrt0M",
        "colab_type": "code",
        "colab": {
          "base_uri": "https://localhost:8080/",
          "height": 85
        },
        "outputId": "5196d620-d625-428a-feb1-aa1b51ed1146"
      },
      "source": [
        "print(\"X_train shape : \"+str(X_train.shape))\n",
        "print(\"X_test shape : \"+str(X_test.shape))\n",
        "print(\"Y_train shape : \"+str(Y_train.shape))\n",
        "print(\"Y_test shape : \"+str(Y_test.shape))"
      ],
      "execution_count": 47,
      "outputs": [
        {
          "output_type": "stream",
          "text": [
            "X_train shape : (3175, 100)\n",
            "X_test shape : (1664, 100)\n",
            "Y_train shape : (3175,)\n",
            "Y_test shape : (1664,)\n"
          ],
          "name": "stdout"
        }
      ]
    },
    {
      "cell_type": "code",
      "metadata": {
        "id": "ZzgMxjSmsg0W",
        "colab_type": "code",
        "colab": {}
      },
      "source": [
        "# reshape input to be [samples, time steps, features] which is required for LSTM\n",
        "X_train =X_train.reshape(X_train.shape[0],X_train.shape[1] , 1)\n",
        "X_test = X_test.reshape(X_test.shape[0],X_test.shape[1] , 1)"
      ],
      "execution_count": 0,
      "outputs": []
    },
    {
      "cell_type": "code",
      "metadata": {
        "id": "sCUHrscdssNq",
        "colab_type": "code",
        "colab": {}
      },
      "source": [
        "from tensorflow.keras.models import Sequential\n",
        "from tensorflow.keras.layers import Dense\n",
        "from tensorflow.keras.layers import LSTM"
      ],
      "execution_count": 0,
      "outputs": []
    },
    {
      "cell_type": "code",
      "metadata": {
        "id": "HzPZ8FaktIqn",
        "colab_type": "code",
        "colab": {}
      },
      "source": [
        "model = Sequential()\n",
        "model.add(LSTM(50,return_sequences=True, input_shape=(100,1)))\n",
        "model.add(LSTM(50, return_sequences=True))\n",
        "model.add(LSTM(50))\n",
        "model.add(Dense(1))\n",
        "model.compile(loss='mean_squared_error',optimizer='adam')"
      ],
      "execution_count": 0,
      "outputs": []
    },
    {
      "cell_type": "code",
      "metadata": {
        "id": "juDCA6mAvvyb",
        "colab_type": "code",
        "colab": {
          "base_uri": "https://localhost:8080/",
          "height": 289
        },
        "outputId": "da9aa201-2db6-464a-ecf7-4ca7e6f9a27d"
      },
      "source": [
        "model.summary()"
      ],
      "execution_count": 54,
      "outputs": [
        {
          "output_type": "stream",
          "text": [
            "Model: \"sequential\"\n",
            "_________________________________________________________________\n",
            "Layer (type)                 Output Shape              Param #   \n",
            "=================================================================\n",
            "lstm (LSTM)                  (None, 100, 50)           10400     \n",
            "_________________________________________________________________\n",
            "lstm_1 (LSTM)                (None, 100, 50)           20200     \n",
            "_________________________________________________________________\n",
            "lstm_2 (LSTM)                (None, 50)                20200     \n",
            "_________________________________________________________________\n",
            "dense (Dense)                (None, 1)                 51        \n",
            "=================================================================\n",
            "Total params: 50,851\n",
            "Trainable params: 50,851\n",
            "Non-trainable params: 0\n",
            "_________________________________________________________________\n"
          ],
          "name": "stdout"
        }
      ]
    },
    {
      "cell_type": "code",
      "metadata": {
        "id": "dFAUS3w3wSZi",
        "colab_type": "code",
        "colab": {
          "base_uri": "https://localhost:8080/",
          "height": 1000
        },
        "outputId": "85064c89-b5c5-4b5c-e760-b06b67d9cbbe"
      },
      "source": [
        "model.fit(X_train,Y_train,validation_data=(X_test,Y_test),epochs=100,batch_size=64,verbose=1)"
      ],
      "execution_count": 55,
      "outputs": [
        {
          "output_type": "stream",
          "text": [
            "Epoch 1/100\n",
            "50/50 [==============================] - 5s 98ms/step - loss: 0.0076 - val_loss: 0.0040\n",
            "Epoch 2/100\n",
            "50/50 [==============================] - 4s 75ms/step - loss: 6.6701e-04 - val_loss: 0.0040\n",
            "Epoch 3/100\n",
            "50/50 [==============================] - 4s 74ms/step - loss: 6.1514e-04 - val_loss: 0.0036\n",
            "Epoch 4/100\n",
            "50/50 [==============================] - 4s 75ms/step - loss: 6.0467e-04 - val_loss: 0.0035\n",
            "Epoch 5/100\n",
            "50/50 [==============================] - 4s 75ms/step - loss: 5.6332e-04 - val_loss: 0.0034\n",
            "Epoch 6/100\n",
            "50/50 [==============================] - 4s 74ms/step - loss: 5.3111e-04 - val_loss: 0.0030\n",
            "Epoch 7/100\n",
            "50/50 [==============================] - 4s 75ms/step - loss: 5.0930e-04 - val_loss: 0.0028\n",
            "Epoch 8/100\n",
            "50/50 [==============================] - 4s 75ms/step - loss: 4.7647e-04 - val_loss: 0.0027\n",
            "Epoch 9/100\n",
            "50/50 [==============================] - 4s 75ms/step - loss: 4.4501e-04 - val_loss: 0.0026\n",
            "Epoch 10/100\n",
            "50/50 [==============================] - 4s 74ms/step - loss: 5.1531e-04 - val_loss: 0.0024\n",
            "Epoch 11/100\n",
            "50/50 [==============================] - 4s 73ms/step - loss: 4.6463e-04 - val_loss: 0.0023\n",
            "Epoch 12/100\n",
            "50/50 [==============================] - 4s 75ms/step - loss: 4.2611e-04 - val_loss: 0.0022\n",
            "Epoch 13/100\n",
            "50/50 [==============================] - 4s 75ms/step - loss: 4.2117e-04 - val_loss: 0.0021\n",
            "Epoch 14/100\n",
            "50/50 [==============================] - 4s 75ms/step - loss: 3.9888e-04 - val_loss: 0.0019\n",
            "Epoch 15/100\n",
            "50/50 [==============================] - 4s 74ms/step - loss: 3.9244e-04 - val_loss: 0.0019\n",
            "Epoch 16/100\n",
            "50/50 [==============================] - 4s 75ms/step - loss: 4.1936e-04 - val_loss: 0.0019\n",
            "Epoch 17/100\n",
            "50/50 [==============================] - 4s 75ms/step - loss: 3.5003e-04 - val_loss: 0.0017\n",
            "Epoch 18/100\n",
            "50/50 [==============================] - 4s 75ms/step - loss: 3.3372e-04 - val_loss: 0.0017\n",
            "Epoch 19/100\n",
            "50/50 [==============================] - 4s 75ms/step - loss: 3.7574e-04 - val_loss: 0.0017\n",
            "Epoch 20/100\n",
            "50/50 [==============================] - 4s 75ms/step - loss: 5.0684e-04 - val_loss: 0.0017\n",
            "Epoch 21/100\n",
            "50/50 [==============================] - 4s 76ms/step - loss: 3.0980e-04 - val_loss: 0.0016\n",
            "Epoch 22/100\n",
            "50/50 [==============================] - 4s 74ms/step - loss: 3.0858e-04 - val_loss: 0.0014\n",
            "Epoch 23/100\n",
            "50/50 [==============================] - 4s 75ms/step - loss: 2.9843e-04 - val_loss: 0.0014\n",
            "Epoch 24/100\n",
            "50/50 [==============================] - 4s 75ms/step - loss: 3.0124e-04 - val_loss: 0.0013\n",
            "Epoch 25/100\n",
            "50/50 [==============================] - 4s 75ms/step - loss: 2.9833e-04 - val_loss: 0.0015\n",
            "Epoch 26/100\n",
            "50/50 [==============================] - 4s 75ms/step - loss: 2.8279e-04 - val_loss: 0.0012\n",
            "Epoch 27/100\n",
            "50/50 [==============================] - 4s 75ms/step - loss: 2.4637e-04 - val_loss: 0.0011\n",
            "Epoch 28/100\n",
            "50/50 [==============================] - 4s 75ms/step - loss: 2.4267e-04 - val_loss: 0.0011\n",
            "Epoch 29/100\n",
            "50/50 [==============================] - 4s 75ms/step - loss: 2.2581e-04 - val_loss: 0.0011\n",
            "Epoch 30/100\n",
            "50/50 [==============================] - 4s 75ms/step - loss: 2.5080e-04 - val_loss: 9.8730e-04\n",
            "Epoch 31/100\n",
            "50/50 [==============================] - 4s 75ms/step - loss: 2.4087e-04 - val_loss: 0.0011\n",
            "Epoch 32/100\n",
            "50/50 [==============================] - 4s 75ms/step - loss: 2.3345e-04 - val_loss: 9.3518e-04\n",
            "Epoch 33/100\n",
            "50/50 [==============================] - 4s 75ms/step - loss: 2.2034e-04 - val_loss: 8.7542e-04\n",
            "Epoch 34/100\n",
            "50/50 [==============================] - 4s 75ms/step - loss: 2.2749e-04 - val_loss: 8.4664e-04\n",
            "Epoch 35/100\n",
            "50/50 [==============================] - 4s 74ms/step - loss: 2.0112e-04 - val_loss: 8.4192e-04\n",
            "Epoch 36/100\n",
            "50/50 [==============================] - 4s 74ms/step - loss: 2.0680e-04 - val_loss: 8.7772e-04\n",
            "Epoch 37/100\n",
            "50/50 [==============================] - 4s 75ms/step - loss: 2.0271e-04 - val_loss: 7.9850e-04\n",
            "Epoch 38/100\n",
            "50/50 [==============================] - 4s 75ms/step - loss: 1.8416e-04 - val_loss: 7.5549e-04\n",
            "Epoch 39/100\n",
            "50/50 [==============================] - 4s 75ms/step - loss: 1.9257e-04 - val_loss: 7.4477e-04\n",
            "Epoch 40/100\n",
            "50/50 [==============================] - 4s 75ms/step - loss: 1.7409e-04 - val_loss: 6.8271e-04\n",
            "Epoch 41/100\n",
            "50/50 [==============================] - 4s 76ms/step - loss: 1.8999e-04 - val_loss: 7.2944e-04\n",
            "Epoch 42/100\n",
            "50/50 [==============================] - 4s 75ms/step - loss: 1.8485e-04 - val_loss: 6.4940e-04\n",
            "Epoch 43/100\n",
            "50/50 [==============================] - 4s 75ms/step - loss: 1.6810e-04 - val_loss: 6.9916e-04\n",
            "Epoch 44/100\n",
            "50/50 [==============================] - 4s 75ms/step - loss: 1.7932e-04 - val_loss: 6.3043e-04\n",
            "Epoch 45/100\n",
            "50/50 [==============================] - 4s 74ms/step - loss: 1.4951e-04 - val_loss: 6.0303e-04\n",
            "Epoch 46/100\n",
            "50/50 [==============================] - 4s 75ms/step - loss: 1.3834e-04 - val_loss: 5.9741e-04\n",
            "Epoch 47/100\n",
            "50/50 [==============================] - 4s 75ms/step - loss: 1.3651e-04 - val_loss: 5.6920e-04\n",
            "Epoch 48/100\n",
            "50/50 [==============================] - 4s 75ms/step - loss: 1.4209e-04 - val_loss: 5.4135e-04\n",
            "Epoch 49/100\n",
            "50/50 [==============================] - 4s 75ms/step - loss: 1.1958e-04 - val_loss: 5.4748e-04\n",
            "Epoch 50/100\n",
            "50/50 [==============================] - 4s 75ms/step - loss: 1.7601e-04 - val_loss: 5.6844e-04\n",
            "Epoch 51/100\n",
            "50/50 [==============================] - 4s 75ms/step - loss: 1.4168e-04 - val_loss: 5.2414e-04\n",
            "Epoch 52/100\n",
            "50/50 [==============================] - 4s 74ms/step - loss: 1.1937e-04 - val_loss: 5.1177e-04\n",
            "Epoch 53/100\n",
            "50/50 [==============================] - 4s 75ms/step - loss: 1.1784e-04 - val_loss: 5.0604e-04\n",
            "Epoch 54/100\n",
            "50/50 [==============================] - 4s 75ms/step - loss: 1.2248e-04 - val_loss: 5.2487e-04\n",
            "Epoch 55/100\n",
            "50/50 [==============================] - 4s 75ms/step - loss: 1.2141e-04 - val_loss: 5.0216e-04\n",
            "Epoch 56/100\n",
            "50/50 [==============================] - 4s 75ms/step - loss: 1.1794e-04 - val_loss: 5.1282e-04\n",
            "Epoch 57/100\n",
            "50/50 [==============================] - 4s 75ms/step - loss: 1.2602e-04 - val_loss: 5.0466e-04\n",
            "Epoch 58/100\n",
            "50/50 [==============================] - 4s 75ms/step - loss: 1.3272e-04 - val_loss: 4.8620e-04\n",
            "Epoch 59/100\n",
            "50/50 [==============================] - 4s 76ms/step - loss: 1.0749e-04 - val_loss: 4.8291e-04\n",
            "Epoch 60/100\n",
            "50/50 [==============================] - 4s 75ms/step - loss: 1.0116e-04 - val_loss: 4.9406e-04\n",
            "Epoch 61/100\n",
            "50/50 [==============================] - 4s 74ms/step - loss: 1.1082e-04 - val_loss: 5.0512e-04\n",
            "Epoch 62/100\n",
            "50/50 [==============================] - 4s 74ms/step - loss: 1.0608e-04 - val_loss: 4.8791e-04\n",
            "Epoch 63/100\n",
            "50/50 [==============================] - 4s 73ms/step - loss: 1.1123e-04 - val_loss: 5.1933e-04\n",
            "Epoch 64/100\n",
            "50/50 [==============================] - 4s 74ms/step - loss: 1.1084e-04 - val_loss: 5.1714e-04\n",
            "Epoch 65/100\n",
            "50/50 [==============================] - 4s 73ms/step - loss: 1.0493e-04 - val_loss: 5.1927e-04\n",
            "Epoch 66/100\n",
            "50/50 [==============================] - 4s 74ms/step - loss: 1.0126e-04 - val_loss: 4.7604e-04\n",
            "Epoch 67/100\n",
            "50/50 [==============================] - 4s 75ms/step - loss: 1.0170e-04 - val_loss: 4.9317e-04\n",
            "Epoch 68/100\n",
            "50/50 [==============================] - 4s 74ms/step - loss: 1.0482e-04 - val_loss: 4.9642e-04\n",
            "Epoch 69/100\n",
            "50/50 [==============================] - 4s 74ms/step - loss: 1.3762e-04 - val_loss: 5.8952e-04\n",
            "Epoch 70/100\n",
            "50/50 [==============================] - 4s 74ms/step - loss: 1.0269e-04 - val_loss: 5.1438e-04\n",
            "Epoch 71/100\n",
            "50/50 [==============================] - 4s 74ms/step - loss: 1.0655e-04 - val_loss: 5.3396e-04\n",
            "Epoch 72/100\n",
            "50/50 [==============================] - 4s 75ms/step - loss: 9.4274e-05 - val_loss: 4.9136e-04\n",
            "Epoch 73/100\n",
            "50/50 [==============================] - 4s 74ms/step - loss: 9.9751e-05 - val_loss: 4.9887e-04\n",
            "Epoch 74/100\n",
            "50/50 [==============================] - 4s 74ms/step - loss: 9.5159e-05 - val_loss: 5.0819e-04\n",
            "Epoch 75/100\n",
            "50/50 [==============================] - 4s 75ms/step - loss: 1.0137e-04 - val_loss: 5.0311e-04\n",
            "Epoch 76/100\n",
            "50/50 [==============================] - 4s 75ms/step - loss: 1.1289e-04 - val_loss: 5.1476e-04\n",
            "Epoch 77/100\n",
            "50/50 [==============================] - 4s 74ms/step - loss: 1.0408e-04 - val_loss: 4.8868e-04\n",
            "Epoch 78/100\n",
            "50/50 [==============================] - 4s 74ms/step - loss: 1.0227e-04 - val_loss: 5.5210e-04\n",
            "Epoch 79/100\n",
            "50/50 [==============================] - 4s 74ms/step - loss: 1.0767e-04 - val_loss: 4.8751e-04\n",
            "Epoch 80/100\n",
            "50/50 [==============================] - 4s 73ms/step - loss: 9.6132e-05 - val_loss: 4.9472e-04\n",
            "Epoch 81/100\n",
            "50/50 [==============================] - 4s 74ms/step - loss: 9.5791e-05 - val_loss: 5.0240e-04\n",
            "Epoch 82/100\n",
            "50/50 [==============================] - 4s 75ms/step - loss: 1.1383e-04 - val_loss: 5.7658e-04\n",
            "Epoch 83/100\n",
            "50/50 [==============================] - 4s 74ms/step - loss: 1.1918e-04 - val_loss: 5.2468e-04\n",
            "Epoch 84/100\n",
            "50/50 [==============================] - 4s 74ms/step - loss: 1.0914e-04 - val_loss: 5.4165e-04\n",
            "Epoch 85/100\n",
            "50/50 [==============================] - 4s 75ms/step - loss: 1.1851e-04 - val_loss: 4.8955e-04\n",
            "Epoch 86/100\n",
            "50/50 [==============================] - 4s 76ms/step - loss: 1.0054e-04 - val_loss: 5.2467e-04\n",
            "Epoch 87/100\n",
            "50/50 [==============================] - 4s 74ms/step - loss: 1.0610e-04 - val_loss: 5.0737e-04\n",
            "Epoch 88/100\n",
            "50/50 [==============================] - 4s 75ms/step - loss: 9.9089e-05 - val_loss: 5.5273e-04\n",
            "Epoch 89/100\n",
            "50/50 [==============================] - 4s 75ms/step - loss: 1.0428e-04 - val_loss: 4.9515e-04\n",
            "Epoch 90/100\n",
            "50/50 [==============================] - 4s 75ms/step - loss: 1.0225e-04 - val_loss: 5.1206e-04\n",
            "Epoch 91/100\n",
            "50/50 [==============================] - 4s 75ms/step - loss: 1.0247e-04 - val_loss: 5.1948e-04\n",
            "Epoch 92/100\n",
            "50/50 [==============================] - 4s 74ms/step - loss: 9.6689e-05 - val_loss: 4.9328e-04\n",
            "Epoch 93/100\n",
            "50/50 [==============================] - 4s 74ms/step - loss: 9.6517e-05 - val_loss: 5.2127e-04\n",
            "Epoch 94/100\n",
            "50/50 [==============================] - 4s 75ms/step - loss: 9.3806e-05 - val_loss: 4.9233e-04\n",
            "Epoch 95/100\n",
            "50/50 [==============================] - 4s 74ms/step - loss: 1.0435e-04 - val_loss: 4.8748e-04\n",
            "Epoch 96/100\n",
            "50/50 [==============================] - 4s 74ms/step - loss: 1.0107e-04 - val_loss: 4.8064e-04\n",
            "Epoch 97/100\n",
            "50/50 [==============================] - 4s 74ms/step - loss: 1.0464e-04 - val_loss: 4.9268e-04\n",
            "Epoch 98/100\n",
            "50/50 [==============================] - 4s 74ms/step - loss: 9.9661e-05 - val_loss: 5.0489e-04\n",
            "Epoch 99/100\n",
            "50/50 [==============================] - 4s 74ms/step - loss: 8.8959e-05 - val_loss: 5.0109e-04\n",
            "Epoch 100/100\n",
            "50/50 [==============================] - 4s 74ms/step - loss: 1.0081e-04 - val_loss: 4.9328e-04\n"
          ],
          "name": "stdout"
        },
        {
          "output_type": "execute_result",
          "data": {
            "text/plain": [
              "<tensorflow.python.keras.callbacks.History at 0x7f160c1d2c18>"
            ]
          },
          "metadata": {
            "tags": []
          },
          "execution_count": 55
        }
      ]
    },
    {
      "cell_type": "code",
      "metadata": {
        "id": "D764FOZgwbrZ",
        "colab_type": "code",
        "colab": {}
      },
      "source": [
        "train_predict = model.predict(X_train)\n",
        "train_predict = scaler.inverse_transform(train_predict)\n",
        "test_predict = model.predict(X_test)\n",
        "test_predict = scaler.inverse_transform(test_predict)"
      ],
      "execution_count": 0,
      "outputs": []
    },
    {
      "cell_type": "code",
      "metadata": {
        "id": "Y3sE32NlxBry",
        "colab_type": "code",
        "colab": {
          "base_uri": "https://localhost:8080/",
          "height": 265
        },
        "outputId": "7efca9db-8e21-4d8c-e2b6-d77279be0034"
      },
      "source": [
        "### Plotting \n",
        "# shift train predictions for plotting\n",
        "look_back=100\n",
        "trainPredictPlot = np.empty_like(df1)\n",
        "trainPredictPlot[:, :] = np.nan\n",
        "trainPredictPlot[look_back:len(train_predict)+look_back, :] = train_predict\n",
        "# shift test predictions for plotting\n",
        "testPredictPlot = np.empty_like(df1)\n",
        "testPredictPlot[:, :] = np.nan\n",
        "testPredictPlot[len(train_predict)+(look_back*2)+1:len(df1)-1, :] = test_predict\n",
        "# plot baseline and predictions\n",
        "plt.plot(scaler.inverse_transform(df1))\n",
        "plt.plot(trainPredictPlot)\n",
        "plt.plot(testPredictPlot)\n",
        "plt.show()"
      ],
      "execution_count": 59,
      "outputs": [
        {
          "output_type": "display_data",
          "data": {
            "image/png": "[encoded data removed]",
            "text/plain": [
              "<Figure size 432x288 with 1 Axes>"
            ]
          },
          "metadata": {
            "tags": [],
            "needs_background": "light"
          }
        }
      ]
    },
    {
      "cell_type": "code",
      "metadata": {
        "id": "FWXk_JY0yMCO",
        "colab_type": "code",
        "colab": {
          "base_uri": "https://localhost:8080/",
          "height": 34
        },
        "outputId": "7c26d856-92b8-491e-d3d2-4c7df5ad6a1c"
      },
      "source": [
        "len(test_data)"
      ],
      "execution_count": 62,
      "outputs": [
        {
          "output_type": "execute_result",
          "data": {
            "text/plain": [
              "1765"
            ]
          },
          "metadata": {
            "tags": []
          },
          "execution_count": 62
        }
      ]
    },
    {
      "cell_type": "code",
      "metadata": {
        "id": "shU2jkySyWTr",
        "colab_type": "code",
        "colab": {
          "base_uri": "https://localhost:8080/",
          "height": 34
        },
        "outputId": "7d200ed0-5f0e-46eb-ff15-e54cbdea2592"
      },
      "source": [
        "x_input=test_data[1665:].reshape(1,-1)\n",
        "x_input.shape"
      ],
      "execution_count": 63,
      "outputs": [
        {
          "output_type": "execute_result",
          "data": {
            "text/plain": [
              "(1, 100)"
            ]
          },
          "metadata": {
            "tags": []
          },
          "execution_count": 63
        }
      ]
    },
    {
      "cell_type": "code",
      "metadata": {
        "id": "Mh_Z8YoBycny",
        "colab_type": "code",
        "colab": {}
      },
      "source": [
        "temp_input=list(x_input)\n",
        "temp_input=temp_input[0].tolist()"
      ],
      "execution_count": 0,
      "outputs": []
    },
    {
      "cell_type": "code",
      "metadata": {
        "id": "Qrw7HS9QyoCT",
        "colab_type": "code",
        "colab": {
          "base_uri": "https://localhost:8080/",
          "height": 1000
        },
        "outputId": "8d3feae9-2e04-4813-9be4-5196d4cfc358"
      },
      "source": [
        "# demonstrate prediction for next 10 days\n",
        "from numpy import array\n",
        "\n",
        "lst_output=[]\n",
        "n_steps=100\n",
        "i=0\n",
        "while(i<30):\n",
        "    \n",
        "    if(len(temp_input)>100):\n",
        "        #print(temp_input)\n",
        "        x_input=np.array(temp_input[1:])\n",
        "        print(\"{} day input {}\".format(i,x_input))\n",
        "        x_input=x_input.reshape(1,-1)\n",
        "        x_input = x_input.reshape((1, n_steps, 1))\n",
        "        #print(x_input)\n",
        "        yhat = model.predict(x_input, verbose=0)\n",
        "        print(\"{} day output {}\".format(i,yhat))\n",
        "        temp_input.extend(yhat[0].tolist())\n",
        "        temp_input=temp_input[1:]\n",
        "        #print(temp_input)\n",
        "        lst_output.extend(yhat.tolist())\n",
        "        i=i+1\n",
        "    else:\n",
        "        x_input = x_input.reshape((1, n_steps,1))\n",
        "        yhat = model.predict(x_input, verbose=0)\n",
        "        print(yhat[0])\n",
        "        temp_input.extend(yhat[0].tolist())\n",
        "        print(len(temp_input))\n",
        "        lst_output.extend(yhat.tolist())\n",
        "        i=i+1\n",
        "    \n",
        "\n",
        "print(lst_output)"
      ],
      "execution_count": 67,
      "outputs": [
        {
          "output_type": "stream",
          "text": [
            "[0.17176838]\n",
            "101\n",
            "1 day input [0.35556166 0.34431841 0.346667   0.3471667  0.35018989 0.36260744\n",
            " 0.36308215 0.35741055 0.35476214 0.36608035 0.3648311  0.36515591\n",
            " 0.3640066  0.35823506 0.36085848 0.35541175 0.35863482 0.353338\n",
            " 0.34751649 0.35471217 0.34656706 0.3469918  0.34976514 0.36470618\n",
            " 0.3623326  0.36153308 0.35963422 0.35998401 0.35863482 0.36028383\n",
            " 0.35903458 0.35696082 0.36877873 0.36575555 0.36575555 0.36305717\n",
            " 0.36717969 0.36018389 0.3503398  0.35158905 0.35096442 0.36013392\n",
            " 0.35873476 0.35741055 0.36265741 0.36185789 0.35736058 0.3586598\n",
            " 0.35231361 0.34751649 0.34501799 0.35021487 0.35741055 0.3588347\n",
            " 0.35728563 0.3563362  0.3541625  0.35336298 0.34144513 0.34319408\n",
            " 0.34621727 0.35073956 0.35718569 0.36278233 0.35925944 0.36368179\n",
            " 0.3663302  0.36260744 0.35696082 0.35791025 0.35553668 0.35923446\n",
            " 0.36085848 0.35143914 0.35308815 0.35341295 0.35663602 0.33737258\n",
            " 0.3308265  0.33230062 0.3298271  0.32767839 0.31755946 0.30051969\n",
            " 0.29842095 0.26039376 0.2731611  0.24307915 0.23296022 0.22551469\n",
            " 0.20292824 0.20287827 0.1431641  0.14041575 0.15223366 0.15952928\n",
            " 0.16869878 0.17289626 0.17831801 0.17176838]\n",
            "1 day output [[0.17128296]]\n",
            "2 day input [0.34431841 0.346667   0.3471667  0.35018989 0.36260744 0.36308215\n",
            " 0.35741055 0.35476214 0.36608035 0.3648311  0.36515591 0.3640066\n",
            " 0.35823506 0.36085848 0.35541175 0.35863482 0.353338   0.34751649\n",
            " 0.35471217 0.34656706 0.3469918  0.34976514 0.36470618 0.3623326\n",
            " 0.36153308 0.35963422 0.35998401 0.35863482 0.36028383 0.35903458\n",
            " 0.35696082 0.36877873 0.36575555 0.36575555 0.36305717 0.36717969\n",
            " 0.36018389 0.3503398  0.35158905 0.35096442 0.36013392 0.35873476\n",
            " 0.35741055 0.36265741 0.36185789 0.35736058 0.3586598  0.35231361\n",
            " 0.34751649 0.34501799 0.35021487 0.35741055 0.3588347  0.35728563\n",
            " 0.3563362  0.3541625  0.35336298 0.34144513 0.34319408 0.34621727\n",
            " 0.35073956 0.35718569 0.36278233 0.35925944 0.36368179 0.3663302\n",
            " 0.36260744 0.35696082 0.35791025 0.35553668 0.35923446 0.36085848\n",
            " 0.35143914 0.35308815 0.35341295 0.35663602 0.33737258 0.3308265\n",
            " 0.33230062 0.3298271  0.32767839 0.31755946 0.30051969 0.29842095\n",
            " 0.26039376 0.2731611  0.24307915 0.23296022 0.22551469 0.20292824\n",
            " 0.20287827 0.1431641  0.14041575 0.15223366 0.15952928 0.16869878\n",
            " 0.17289626 0.17831801 0.17176838 0.17128296]\n",
            "2 day output [[0.16936883]]\n",
            "3 day input [0.346667   0.3471667  0.35018989 0.36260744 0.36308215 0.35741055\n",
            " 0.35476214 0.36608035 0.3648311  0.36515591 0.3640066  0.35823506\n",
            " 0.36085848 0.35541175 0.35863482 0.353338   0.34751649 0.35471217\n",
            " 0.34656706 0.3469918  0.34976514 0.36470618 0.3623326  0.36153308\n",
            " 0.35963422 0.35998401 0.35863482 0.36028383 0.35903458 0.35696082\n",
            " 0.36877873 0.36575555 0.36575555 0.36305717 0.36717969 0.36018389\n",
            " 0.3503398  0.35158905 0.35096442 0.36013392 0.35873476 0.35741055\n",
            " 0.36265741 0.36185789 0.35736058 0.3586598  0.35231361 0.34751649\n",
            " 0.34501799 0.35021487 0.35741055 0.3588347  0.35728563 0.3563362\n",
            " 0.3541625  0.35336298 0.34144513 0.34319408 0.34621727 0.35073956\n",
            " 0.35718569 0.36278233 0.35925944 0.36368179 0.3663302  0.36260744\n",
            " 0.35696082 0.35791025 0.35553668 0.35923446 0.36085848 0.35143914\n",
            " 0.35308815 0.35341295 0.35663602 0.33737258 0.3308265  0.33230062\n",
            " 0.3298271  0.32767839 0.31755946 0.30051969 0.29842095 0.26039376\n",
            " 0.2731611  0.24307915 0.23296022 0.22551469 0.20292824 0.20287827\n",
            " 0.1431641  0.14041575 0.15223366 0.15952928 0.16869878 0.17289626\n",
            " 0.17831801 0.17176838 0.17128296 0.16936883]\n",
            "3 day output [[0.1674252]]\n",
            "4 day input [0.3471667  0.35018989 0.36260744 0.36308215 0.35741055 0.35476214\n",
            " 0.36608035 0.3648311  0.36515591 0.3640066  0.35823506 0.36085848\n",
            " 0.35541175 0.35863482 0.353338   0.34751649 0.35471217 0.34656706\n",
            " 0.3469918  0.34976514 0.36470618 0.3623326  0.36153308 0.35963422\n",
            " 0.35998401 0.35863482 0.36028383 0.35903458 0.35696082 0.36877873\n",
            " 0.36575555 0.36575555 0.36305717 0.36717969 0.36018389 0.3503398\n",
            " 0.35158905 0.35096442 0.36013392 0.35873476 0.35741055 0.36265741\n",
            " 0.36185789 0.35736058 0.3586598  0.35231361 0.34751649 0.34501799\n",
            " 0.35021487 0.35741055 0.3588347  0.35728563 0.3563362  0.3541625\n",
            " 0.35336298 0.34144513 0.34319408 0.34621727 0.35073956 0.35718569\n",
            " 0.36278233 0.35925944 0.36368179 0.3663302  0.36260744 0.35696082\n",
            " 0.35791025 0.35553668 0.35923446 0.36085848 0.35143914 0.35308815\n",
            " 0.35341295 0.35663602 0.33737258 0.3308265  0.33230062 0.3298271\n",
            " 0.32767839 0.31755946 0.30051969 0.29842095 0.26039376 0.2731611\n",
            " 0.24307915 0.23296022 0.22551469 0.20292824 0.20287827 0.1431641\n",
            " 0.14041575 0.15223366 0.15952928 0.16869878 0.17289626 0.17831801\n",
            " 0.17176838 0.17128296 0.16936883 0.1674252 ]\n",
            "4 day output [[0.16573545]]\n",
            "5 day input [0.35018989 0.36260744 0.36308215 0.35741055 0.35476214 0.36608035\n",
            " 0.3648311  0.36515591 0.3640066  0.35823506 0.36085848 0.35541175\n",
            " 0.35863482 0.353338   0.34751649 0.35471217 0.34656706 0.3469918\n",
            " 0.34976514 0.36470618 0.3623326  0.36153308 0.35963422 0.35998401\n",
            " 0.35863482 0.36028383 0.35903458 0.35696082 0.36877873 0.36575555\n",
            " 0.36575555 0.36305717 0.36717969 0.36018389 0.3503398  0.35158905\n",
            " 0.35096442 0.36013392 0.35873476 0.35741055 0.36265741 0.36185789\n",
            " 0.35736058 0.3586598  0.35231361 0.34751649 0.34501799 0.35021487\n",
            " 0.35741055 0.3588347  0.35728563 0.3563362  0.3541625  0.35336298\n",
            " 0.34144513 0.34319408 0.34621727 0.35073956 0.35718569 0.36278233\n",
            " 0.35925944 0.36368179 0.3663302  0.36260744 0.35696082 0.35791025\n",
            " 0.35553668 0.35923446 0.36085848 0.35143914 0.35308815 0.35341295\n",
            " 0.35663602 0.33737258 0.3308265  0.33230062 0.3298271  0.32767839\n",
            " 0.31755946 0.30051969 0.29842095 0.26039376 0.2731611  0.24307915\n",
            " 0.23296022 0.22551469 0.20292824 0.20287827 0.1431641  0.14041575\n",
            " 0.15223366 0.15952928 0.16869878 0.17289626 0.17831801 0.17176838\n",
            " 0.17128296 0.16936883 0.1674252  0.16573545]\n",
            "5 day output [[0.16431059]]\n",
            "6 day input [0.36260744 0.36308215 0.35741055 0.35476214 0.36608035 0.3648311\n",
            " 0.36515591 0.3640066  0.35823506 0.36085848 0.35541175 0.35863482\n",
            " 0.353338   0.34751649 0.35471217 0.34656706 0.3469918  0.34976514\n",
            " 0.36470618 0.3623326  0.36153308 0.35963422 0.35998401 0.35863482\n",
            " 0.36028383 0.35903458 0.35696082 0.36877873 0.36575555 0.36575555\n",
            " 0.36305717 0.36717969 0.36018389 0.3503398  0.35158905 0.35096442\n",
            " 0.36013392 0.35873476 0.35741055 0.36265741 0.36185789 0.35736058\n",
            " 0.3586598  0.35231361 0.34751649 0.34501799 0.35021487 0.35741055\n",
            " 0.3588347  0.35728563 0.3563362  0.3541625  0.35336298 0.34144513\n",
            " 0.34319408 0.34621727 0.35073956 0.35718569 0.36278233 0.35925944\n",
            " 0.36368179 0.3663302  0.36260744 0.35696082 0.35791025 0.35553668\n",
            " 0.35923446 0.36085848 0.35143914 0.35308815 0.35341295 0.35663602\n",
            " 0.33737258 0.3308265  0.33230062 0.3298271  0.32767839 0.31755946\n",
            " 0.30051969 0.29842095 0.26039376 0.2731611  0.24307915 0.23296022\n",
            " 0.22551469 0.20292824 0.20287827 0.1431641  0.14041575 0.15223366\n",
            " 0.15952928 0.16869878 0.17289626 0.17831801 0.17176838 0.17128296\n",
            " 0.16936883 0.1674252  0.16573545 0.16431059]\n",
            "6 day output [[0.1631016]]\n",
            "7 day input [0.36308215 0.35741055 0.35476214 0.36608035 0.3648311  0.36515591\n",
            " 0.3640066  0.35823506 0.36085848 0.35541175 0.35863482 0.353338\n",
            " 0.34751649 0.35471217 0.34656706 0.3469918  0.34976514 0.36470618\n",
            " 0.3623326  0.36153308 0.35963422 0.35998401 0.35863482 0.36028383\n",
            " 0.35903458 0.35696082 0.36877873 0.36575555 0.36575555 0.36305717\n",
            " 0.36717969 0.36018389 0.3503398  0.35158905 0.35096442 0.36013392\n",
            " 0.35873476 0.35741055 0.36265741 0.36185789 0.35736058 0.3586598\n",
            " 0.35231361 0.34751649 0.34501799 0.35021487 0.35741055 0.3588347\n",
            " 0.35728563 0.3563362  0.3541625  0.35336298 0.34144513 0.34319408\n",
            " 0.34621727 0.35073956 0.35718569 0.36278233 0.35925944 0.36368179\n",
            " 0.3663302  0.36260744 0.35696082 0.35791025 0.35553668 0.35923446\n",
            " 0.36085848 0.35143914 0.35308815 0.35341295 0.35663602 0.33737258\n",
            " 0.3308265  0.33230062 0.3298271  0.32767839 0.31755946 0.30051969\n",
            " 0.29842095 0.26039376 0.2731611  0.24307915 0.23296022 0.22551469\n",
            " 0.20292824 0.20287827 0.1431641  0.14041575 0.15223366 0.15952928\n",
            " 0.16869878 0.17289626 0.17831801 0.17176838 0.17128296 0.16936883\n",
            " 0.1674252  0.16573545 0.16431059 0.1631016 ]\n",
            "7 day output [[0.1620459]]\n",
            "8 day input [0.35741055 0.35476214 0.36608035 0.3648311  0.36515591 0.3640066\n",
            " 0.35823506 0.36085848 0.35541175 0.35863482 0.353338   0.34751649\n",
            " 0.35471217 0.34656706 0.3469918  0.34976514 0.36470618 0.3623326\n",
            " 0.36153308 0.35963422 0.35998401 0.35863482 0.36028383 0.35903458\n",
            " 0.35696082 0.36877873 0.36575555 0.36575555 0.36305717 0.36717969\n",
            " 0.36018389 0.3503398  0.35158905 0.35096442 0.36013392 0.35873476\n",
            " 0.35741055 0.36265741 0.36185789 0.35736058 0.3586598  0.35231361\n",
            " 0.34751649 0.34501799 0.35021487 0.35741055 0.3588347  0.35728563\n",
            " 0.3563362  0.3541625  0.35336298 0.34144513 0.34319408 0.34621727\n",
            " 0.35073956 0.35718569 0.36278233 0.35925944 0.36368179 0.3663302\n",
            " 0.36260744 0.35696082 0.35791025 0.35553668 0.35923446 0.36085848\n",
            " 0.35143914 0.35308815 0.35341295 0.35663602 0.33737258 0.3308265\n",
            " 0.33230062 0.3298271  0.32767839 0.31755946 0.30051969 0.29842095\n",
            " 0.26039376 0.2731611  0.24307915 0.23296022 0.22551469 0.20292824\n",
            " 0.20287827 0.1431641  0.14041575 0.15223366 0.15952928 0.16869878\n",
            " 0.17289626 0.17831801 0.17176838 0.17128296 0.16936883 0.1674252\n",
            " 0.16573545 0.16431059 0.1631016  0.1620459 ]\n",
            "8 day output [[0.16108325]]\n",
            "9 day input [0.35476214 0.36608035 0.3648311  0.36515591 0.3640066  0.35823506\n",
            " 0.36085848 0.35541175 0.35863482 0.353338   0.34751649 0.35471217\n",
            " 0.34656706 0.3469918  0.34976514 0.36470618 0.3623326  0.36153308\n",
            " 0.35963422 0.35998401 0.35863482 0.36028383 0.35903458 0.35696082\n",
            " 0.36877873 0.36575555 0.36575555 0.36305717 0.36717969 0.36018389\n",
            " 0.3503398  0.35158905 0.35096442 0.36013392 0.35873476 0.35741055\n",
            " 0.36265741 0.36185789 0.35736058 0.3586598  0.35231361 0.34751649\n",
            " 0.34501799 0.35021487 0.35741055 0.3588347  0.35728563 0.3563362\n",
            " 0.3541625  0.35336298 0.34144513 0.34319408 0.34621727 0.35073956\n",
            " 0.35718569 0.36278233 0.35925944 0.36368179 0.3663302  0.36260744\n",
            " 0.35696082 0.35791025 0.35553668 0.35923446 0.36085848 0.35143914\n",
            " 0.35308815 0.35341295 0.35663602 0.33737258 0.3308265  0.33230062\n",
            " 0.3298271  0.32767839 0.31755946 0.30051969 0.29842095 0.26039376\n",
            " 0.2731611  0.24307915 0.23296022 0.22551469 0.20292824 0.20287827\n",
            " 0.1431641  0.14041575 0.15223366 0.15952928 0.16869878 0.17289626\n",
            " 0.17831801 0.17176838 0.17128296 0.16936883 0.1674252  0.16573545\n",
            " 0.16431059 0.1631016  0.1620459  0.16108325]\n",
            "9 day output [[0.16016413]]\n",
            "10 day input [0.36608035 0.3648311  0.36515591 0.3640066  0.35823506 0.36085848\n",
            " 0.35541175 0.35863482 0.353338   0.34751649 0.35471217 0.34656706\n",
            " 0.3469918  0.34976514 0.36470618 0.3623326  0.36153308 0.35963422\n",
            " 0.35998401 0.35863482 0.36028383 0.35903458 0.35696082 0.36877873\n",
            " 0.36575555 0.36575555 0.36305717 0.36717969 0.36018389 0.3503398\n",
            " 0.35158905 0.35096442 0.36013392 0.35873476 0.35741055 0.36265741\n",
            " 0.36185789 0.35736058 0.3586598  0.35231361 0.34751649 0.34501799\n",
            " 0.35021487 0.35741055 0.3588347  0.35728563 0.3563362  0.3541625\n",
            " 0.35336298 0.34144513 0.34319408 0.34621727 0.35073956 0.35718569\n",
            " 0.36278233 0.35925944 0.36368179 0.3663302  0.36260744 0.35696082\n",
            " 0.35791025 0.35553668 0.35923446 0.36085848 0.35143914 0.35308815\n",
            " 0.35341295 0.35663602 0.33737258 0.3308265  0.33230062 0.3298271\n",
            " 0.32767839 0.31755946 0.30051969 0.29842095 0.26039376 0.2731611\n",
            " 0.24307915 0.23296022 0.22551469 0.20292824 0.20287827 0.1431641\n",
            " 0.14041575 0.15223366 0.15952928 0.16869878 0.17289626 0.17831801\n",
            " 0.17176838 0.17128296 0.16936883 0.1674252  0.16573545 0.16431059\n",
            " 0.1631016  0.1620459  0.16108325 0.16016413]\n",
            "10 day output [[0.15925278]]\n",
            "11 day input [0.3648311  0.36515591 0.3640066  0.35823506 0.36085848 0.35541175\n",
            " 0.35863482 0.353338   0.34751649 0.35471217 0.34656706 0.3469918\n",
            " 0.34976514 0.36470618 0.3623326  0.36153308 0.35963422 0.35998401\n",
            " 0.35863482 0.36028383 0.35903458 0.35696082 0.36877873 0.36575555\n",
            " 0.36575555 0.36305717 0.36717969 0.36018389 0.3503398  0.35158905\n",
            " 0.35096442 0.36013392 0.35873476 0.35741055 0.36265741 0.36185789\n",
            " 0.35736058 0.3586598  0.35231361 0.34751649 0.34501799 0.35021487\n",
            " 0.35741055 0.3588347  0.35728563 0.3563362  0.3541625  0.35336298\n",
            " 0.34144513 0.34319408 0.34621727 0.35073956 0.35718569 0.36278233\n",
            " 0.35925944 0.36368179 0.3663302  0.36260744 0.35696082 0.35791025\n",
            " 0.35553668 0.35923446 0.36085848 0.35143914 0.35308815 0.35341295\n",
            " 0.35663602 0.33737258 0.3308265  0.33230062 0.3298271  0.32767839\n",
            " 0.31755946 0.30051969 0.29842095 0.26039376 0.2731611  0.24307915\n",
            " 0.23296022 0.22551469 0.20292824 0.20287827 0.1431641  0.14041575\n",
            " 0.15223366 0.15952928 0.16869878 0.17289626 0.17831801 0.17176838\n",
            " 0.17128296 0.16936883 0.1674252  0.16573545 0.16431059 0.1631016\n",
            " 0.1620459  0.16108325 0.16016413 0.15925278]\n",
            "11 day output [[0.15832649]]\n",
            "12 day input [0.36515591 0.3640066  0.35823506 0.36085848 0.35541175 0.35863482\n",
            " 0.353338   0.34751649 0.35471217 0.34656706 0.3469918  0.34976514\n",
            " 0.36470618 0.3623326  0.36153308 0.35963422 0.35998401 0.35863482\n",
            " 0.36028383 0.35903458 0.35696082 0.36877873 0.36575555 0.36575555\n",
            " 0.36305717 0.36717969 0.36018389 0.3503398  0.35158905 0.35096442\n",
            " 0.36013392 0.35873476 0.35741055 0.36265741 0.36185789 0.35736058\n",
            " 0.3586598  0.35231361 0.34751649 0.34501799 0.35021487 0.35741055\n",
            " 0.3588347  0.35728563 0.3563362  0.3541625  0.35336298 0.34144513\n",
            " 0.34319408 0.34621727 0.35073956 0.35718569 0.36278233 0.35925944\n",
            " 0.36368179 0.3663302  0.36260744 0.35696082 0.35791025 0.35553668\n",
            " 0.35923446 0.36085848 0.35143914 0.35308815 0.35341295 0.35663602\n",
            " 0.33737258 0.3308265  0.33230062 0.3298271  0.32767839 0.31755946\n",
            " 0.30051969 0.29842095 0.26039376 0.2731611  0.24307915 0.23296022\n",
            " 0.22551469 0.20292824 0.20287827 0.1431641  0.14041575 0.15223366\n",
            " 0.15952928 0.16869878 0.17289626 0.17831801 0.17176838 0.17128296\n",
            " 0.16936883 0.1674252  0.16573545 0.16431059 0.1631016  0.1620459\n",
            " 0.16108325 0.16016413 0.15925278 0.15832649]\n",
            "12 day output [[0.15737352]]\n",
            "13 day input [0.3640066  0.35823506 0.36085848 0.35541175 0.35863482 0.353338\n",
            " 0.34751649 0.35471217 0.34656706 0.3469918  0.34976514 0.36470618\n",
            " 0.3623326  0.36153308 0.35963422 0.35998401 0.35863482 0.36028383\n",
            " 0.35903458 0.35696082 0.36877873 0.36575555 0.36575555 0.36305717\n",
            " 0.36717969 0.36018389 0.3503398  0.35158905 0.35096442 0.36013392\n",
            " 0.35873476 0.35741055 0.36265741 0.36185789 0.35736058 0.3586598\n",
            " 0.35231361 0.34751649 0.34501799 0.35021487 0.35741055 0.3588347\n",
            " 0.35728563 0.3563362  0.3541625  0.35336298 0.34144513 0.34319408\n",
            " 0.34621727 0.35073956 0.35718569 0.36278233 0.35925944 0.36368179\n",
            " 0.3663302  0.36260744 0.35696082 0.35791025 0.35553668 0.35923446\n",
            " 0.36085848 0.35143914 0.35308815 0.35341295 0.35663602 0.33737258\n",
            " 0.3308265  0.33230062 0.3298271  0.32767839 0.31755946 0.30051969\n",
            " 0.29842095 0.26039376 0.2731611  0.24307915 0.23296022 0.22551469\n",
            " 0.20292824 0.20287827 0.1431641  0.14041575 0.15223366 0.15952928\n",
            " 0.16869878 0.17289626 0.17831801 0.17176838 0.17128296 0.16936883\n",
            " 0.1674252  0.16573545 0.16431059 0.1631016  0.1620459  0.16108325\n",
            " 0.16016413 0.15925278 0.15832649 0.15737352]\n",
            "13 day output [[0.1563899]]\n",
            "14 day input [0.35823506 0.36085848 0.35541175 0.35863482 0.353338   0.34751649\n",
            " 0.35471217 0.34656706 0.3469918  0.34976514 0.36470618 0.3623326\n",
            " 0.36153308 0.35963422 0.35998401 0.35863482 0.36028383 0.35903458\n",
            " 0.35696082 0.36877873 0.36575555 0.36575555 0.36305717 0.36717969\n",
            " 0.36018389 0.3503398  0.35158905 0.35096442 0.36013392 0.35873476\n",
            " 0.35741055 0.36265741 0.36185789 0.35736058 0.3586598  0.35231361\n",
            " 0.34751649 0.34501799 0.35021487 0.35741055 0.3588347  0.35728563\n",
            " 0.3563362  0.3541625  0.35336298 0.34144513 0.34319408 0.34621727\n",
            " 0.35073956 0.35718569 0.36278233 0.35925944 0.36368179 0.3663302\n",
            " 0.36260744 0.35696082 0.35791025 0.35553668 0.35923446 0.36085848\n",
            " 0.35143914 0.35308815 0.35341295 0.35663602 0.33737258 0.3308265\n",
            " 0.33230062 0.3298271  0.32767839 0.31755946 0.30051969 0.29842095\n",
            " 0.26039376 0.2731611  0.24307915 0.23296022 0.22551469 0.20292824\n",
            " 0.20287827 0.1431641  0.14041575 0.15223366 0.15952928 0.16869878\n",
            " 0.17289626 0.17831801 0.17176838 0.17128296 0.16936883 0.1674252\n",
            " 0.16573545 0.16431059 0.1631016  0.1620459  0.16108325 0.16016413\n",
            " 0.15925278 0.15832649 0.15737352 0.15638991]\n",
            "14 day output [[0.15537682]]\n",
            "15 day input [0.36085848 0.35541175 0.35863482 0.353338   0.34751649 0.35471217\n",
            " 0.34656706 0.3469918  0.34976514 0.36470618 0.3623326  0.36153308\n",
            " 0.35963422 0.35998401 0.35863482 0.36028383 0.35903458 0.35696082\n",
            " 0.36877873 0.36575555 0.36575555 0.36305717 0.36717969 0.36018389\n",
            " 0.3503398  0.35158905 0.35096442 0.36013392 0.35873476 0.35741055\n",
            " 0.36265741 0.36185789 0.35736058 0.3586598  0.35231361 0.34751649\n",
            " 0.34501799 0.35021487 0.35741055 0.3588347  0.35728563 0.3563362\n",
            " 0.3541625  0.35336298 0.34144513 0.34319408 0.34621727 0.35073956\n",
            " 0.35718569 0.36278233 0.35925944 0.36368179 0.3663302  0.36260744\n",
            " 0.35696082 0.35791025 0.35553668 0.35923446 0.36085848 0.35143914\n",
            " 0.35308815 0.35341295 0.35663602 0.33737258 0.3308265  0.33230062\n",
            " 0.3298271  0.32767839 0.31755946 0.30051969 0.29842095 0.26039376\n",
            " 0.2731611  0.24307915 0.23296022 0.22551469 0.20292824 0.20287827\n",
            " 0.1431641  0.14041575 0.15223366 0.15952928 0.16869878 0.17289626\n",
            " 0.17831801 0.17176838 0.17128296 0.16936883 0.1674252  0.16573545\n",
            " 0.16431059 0.1631016  0.1620459  0.16108325 0.16016413 0.15925278\n",
            " 0.15832649 0.15737352 0.15638991 0.15537682]\n",
            "15 day output [[0.15433812]]\n",
            "16 day input [0.35541175 0.35863482 0.353338   0.34751649 0.35471217 0.34656706\n",
            " 0.3469918  0.34976514 0.36470618 0.3623326  0.36153308 0.35963422\n",
            " 0.35998401 0.35863482 0.36028383 0.35903458 0.35696082 0.36877873\n",
            " 0.36575555 0.36575555 0.36305717 0.36717969 0.36018389 0.3503398\n",
            " 0.35158905 0.35096442 0.36013392 0.35873476 0.35741055 0.36265741\n",
            " 0.36185789 0.35736058 0.3586598  0.35231361 0.34751649 0.34501799\n",
            " 0.35021487 0.35741055 0.3588347  0.35728563 0.3563362  0.3541625\n",
            " 0.35336298 0.34144513 0.34319408 0.34621727 0.35073956 0.35718569\n",
            " 0.36278233 0.35925944 0.36368179 0.3663302  0.36260744 0.35696082\n",
            " 0.35791025 0.35553668 0.35923446 0.36085848 0.35143914 0.35308815\n",
            " 0.35341295 0.35663602 0.33737258 0.3308265  0.33230062 0.3298271\n",
            " 0.32767839 0.31755946 0.30051969 0.29842095 0.26039376 0.2731611\n",
            " 0.24307915 0.23296022 0.22551469 0.20292824 0.20287827 0.1431641\n",
            " 0.14041575 0.15223366 0.15952928 0.16869878 0.17289626 0.17831801\n",
            " 0.17176838 0.17128296 0.16936883 0.1674252  0.16573545 0.16431059\n",
            " 0.1631016  0.1620459  0.16108325 0.16016413 0.15925278 0.15832649\n",
            " 0.15737352 0.15638991 0.15537682 0.15433812]\n",
            "16 day output [[0.15327887]]\n",
            "17 day input [0.35863482 0.353338   0.34751649 0.35471217 0.34656706 0.3469918\n",
            " 0.34976514 0.36470618 0.3623326  0.36153308 0.35963422 0.35998401\n",
            " 0.35863482 0.36028383 0.35903458 0.35696082 0.36877873 0.36575555\n",
            " 0.36575555 0.36305717 0.36717969 0.36018389 0.3503398  0.35158905\n",
            " 0.35096442 0.36013392 0.35873476 0.35741055 0.36265741 0.36185789\n",
            " 0.35736058 0.3586598  0.35231361 0.34751649 0.34501799 0.35021487\n",
            " 0.35741055 0.3588347  0.35728563 0.3563362  0.3541625  0.35336298\n",
            " 0.34144513 0.34319408 0.34621727 0.35073956 0.35718569 0.36278233\n",
            " 0.35925944 0.36368179 0.3663302  0.36260744 0.35696082 0.35791025\n",
            " 0.35553668 0.35923446 0.36085848 0.35143914 0.35308815 0.35341295\n",
            " 0.35663602 0.33737258 0.3308265  0.33230062 0.3298271  0.32767839\n",
            " 0.31755946 0.30051969 0.29842095 0.26039376 0.2731611  0.24307915\n",
            " 0.23296022 0.22551469 0.20292824 0.20287827 0.1431641  0.14041575\n",
            " 0.15223366 0.15952928 0.16869878 0.17289626 0.17831801 0.17176838\n",
            " 0.17128296 0.16936883 0.1674252  0.16573545 0.16431059 0.1631016\n",
            " 0.1620459  0.16108325 0.16016413 0.15925278 0.15832649 0.15737352\n",
            " 0.15638991 0.15537682 0.15433812 0.15327887]\n",
            "17 day output [[0.15220416]]\n",
            "18 day input [0.353338   0.34751649 0.35471217 0.34656706 0.3469918  0.34976514\n",
            " 0.36470618 0.3623326  0.36153308 0.35963422 0.35998401 0.35863482\n",
            " 0.36028383 0.35903458 0.35696082 0.36877873 0.36575555 0.36575555\n",
            " 0.36305717 0.36717969 0.36018389 0.3503398  0.35158905 0.35096442\n",
            " 0.36013392 0.35873476 0.35741055 0.36265741 0.36185789 0.35736058\n",
            " 0.3586598  0.35231361 0.34751649 0.34501799 0.35021487 0.35741055\n",
            " 0.3588347  0.35728563 0.3563362  0.3541625  0.35336298 0.34144513\n",
            " 0.34319408 0.34621727 0.35073956 0.35718569 0.36278233 0.35925944\n",
            " 0.36368179 0.3663302  0.36260744 0.35696082 0.35791025 0.35553668\n",
            " 0.35923446 0.36085848 0.35143914 0.35308815 0.35341295 0.35663602\n",
            " 0.33737258 0.3308265  0.33230062 0.3298271  0.32767839 0.31755946\n",
            " 0.30051969 0.29842095 0.26039376 0.2731611  0.24307915 0.23296022\n",
            " 0.22551469 0.20292824 0.20287827 0.1431641  0.14041575 0.15223366\n",
            " 0.15952928 0.16869878 0.17289626 0.17831801 0.17176838 0.17128296\n",
            " 0.16936883 0.1674252  0.16573545 0.16431059 0.1631016  0.1620459\n",
            " 0.16108325 0.16016413 0.15925278 0.15832649 0.15737352 0.15638991\n",
            " 0.15537682 0.15433812 0.15327887 0.15220416]\n",
            "18 day output [[0.15111852]]\n",
            "19 day input [0.34751649 0.35471217 0.34656706 0.3469918  0.34976514 0.36470618\n",
            " 0.3623326  0.36153308 0.35963422 0.35998401 0.35863482 0.36028383\n",
            " 0.35903458 0.35696082 0.36877873 0.36575555 0.36575555 0.36305717\n",
            " 0.36717969 0.36018389 0.3503398  0.35158905 0.35096442 0.36013392\n",
            " 0.35873476 0.35741055 0.36265741 0.36185789 0.35736058 0.3586598\n",
            " 0.35231361 0.34751649 0.34501799 0.35021487 0.35741055 0.3588347\n",
            " 0.35728563 0.3563362  0.3541625  0.35336298 0.34144513 0.34319408\n",
            " 0.34621727 0.35073956 0.35718569 0.36278233 0.35925944 0.36368179\n",
            " 0.3663302  0.36260744 0.35696082 0.35791025 0.35553668 0.35923446\n",
            " 0.36085848 0.35143914 0.35308815 0.35341295 0.35663602 0.33737258\n",
            " 0.3308265  0.33230062 0.3298271  0.32767839 0.31755946 0.30051969\n",
            " 0.29842095 0.26039376 0.2731611  0.24307915 0.23296022 0.22551469\n",
            " 0.20292824 0.20287827 0.1431641  0.14041575 0.15223366 0.15952928\n",
            " 0.16869878 0.17289626 0.17831801 0.17176838 0.17128296 0.16936883\n",
            " 0.1674252  0.16573545 0.16431059 0.1631016  0.1620459  0.16108325\n",
            " 0.16016413 0.15925278 0.15832649 0.15737352 0.15638991 0.15537682\n",
            " 0.15433812 0.15327887 0.15220416 0.15111852]\n",
            "19 day output [[0.1500258]]\n",
            "20 day input [0.35471217 0.34656706 0.3469918  0.34976514 0.36470618 0.3623326\n",
            " 0.36153308 0.35963422 0.35998401 0.35863482 0.36028383 0.35903458\n",
            " 0.35696082 0.36877873 0.36575555 0.36575555 0.36305717 0.36717969\n",
            " 0.36018389 0.3503398  0.35158905 0.35096442 0.36013392 0.35873476\n",
            " 0.35741055 0.36265741 0.36185789 0.35736058 0.3586598  0.35231361\n",
            " 0.34751649 0.34501799 0.35021487 0.35741055 0.3588347  0.35728563\n",
            " 0.3563362  0.3541625  0.35336298 0.34144513 0.34319408 0.34621727\n",
            " 0.35073956 0.35718569 0.36278233 0.35925944 0.36368179 0.3663302\n",
            " 0.36260744 0.35696082 0.35791025 0.35553668 0.35923446 0.36085848\n",
            " 0.35143914 0.35308815 0.35341295 0.35663602 0.33737258 0.3308265\n",
            " 0.33230062 0.3298271  0.32767839 0.31755946 0.30051969 0.29842095\n",
            " 0.26039376 0.2731611  0.24307915 0.23296022 0.22551469 0.20292824\n",
            " 0.20287827 0.1431641  0.14041575 0.15223366 0.15952928 0.16869878\n",
            " 0.17289626 0.17831801 0.17176838 0.17128296 0.16936883 0.1674252\n",
            " 0.16573545 0.16431059 0.1631016  0.1620459  0.16108325 0.16016413\n",
            " 0.15925278 0.15832649 0.15737352 0.15638991 0.15537682 0.15433812\n",
            " 0.15327887 0.15220416 0.15111852 0.1500258 ]\n",
            "20 day output [[0.14892898]]\n",
            "21 day input [0.34656706 0.3469918  0.34976514 0.36470618 0.3623326  0.36153308\n",
            " 0.35963422 0.35998401 0.35863482 0.36028383 0.35903458 0.35696082\n",
            " 0.36877873 0.36575555 0.36575555 0.36305717 0.36717969 0.36018389\n",
            " 0.3503398  0.35158905 0.35096442 0.36013392 0.35873476 0.35741055\n",
            " 0.36265741 0.36185789 0.35736058 0.3586598  0.35231361 0.34751649\n",
            " 0.34501799 0.35021487 0.35741055 0.3588347  0.35728563 0.3563362\n",
            " 0.3541625  0.35336298 0.34144513 0.34319408 0.34621727 0.35073956\n",
            " 0.35718569 0.36278233 0.35925944 0.36368179 0.3663302  0.36260744\n",
            " 0.35696082 0.35791025 0.35553668 0.35923446 0.36085848 0.35143914\n",
            " 0.35308815 0.35341295 0.35663602 0.33737258 0.3308265  0.33230062\n",
            " 0.3298271  0.32767839 0.31755946 0.30051969 0.29842095 0.26039376\n",
            " 0.2731611  0.24307915 0.23296022 0.22551469 0.20292824 0.20287827\n",
            " 0.1431641  0.14041575 0.15223366 0.15952928 0.16869878 0.17289626\n",
            " 0.17831801 0.17176838 0.17128296 0.16936883 0.1674252  0.16573545\n",
            " 0.16431059 0.1631016  0.1620459  0.16108325 0.16016413 0.15925278\n",
            " 0.15832649 0.15737352 0.15638991 0.15537682 0.15433812 0.15327887\n",
            " 0.15220416 0.15111852 0.1500258  0.14892898]\n",
            "21 day output [[0.1478303]]\n",
            "22 day input [0.3469918  0.34976514 0.36470618 0.3623326  0.36153308 0.35963422\n",
            " 0.35998401 0.35863482 0.36028383 0.35903458 0.35696082 0.36877873\n",
            " 0.36575555 0.36575555 0.36305717 0.36717969 0.36018389 0.3503398\n",
            " 0.35158905 0.35096442 0.36013392 0.35873476 0.35741055 0.36265741\n",
            " 0.36185789 0.35736058 0.3586598  0.35231361 0.34751649 0.34501799\n",
            " 0.35021487 0.35741055 0.3588347  0.35728563 0.3563362  0.3541625\n",
            " 0.35336298 0.34144513 0.34319408 0.34621727 0.35073956 0.35718569\n",
            " 0.36278233 0.35925944 0.36368179 0.3663302  0.36260744 0.35696082\n",
            " 0.35791025 0.35553668 0.35923446 0.36085848 0.35143914 0.35308815\n",
            " 0.35341295 0.35663602 0.33737258 0.3308265  0.33230062 0.3298271\n",
            " 0.32767839 0.31755946 0.30051969 0.29842095 0.26039376 0.2731611\n",
            " 0.24307915 0.23296022 0.22551469 0.20292824 0.20287827 0.1431641\n",
            " 0.14041575 0.15223366 0.15952928 0.16869878 0.17289626 0.17831801\n",
            " 0.17176838 0.17128296 0.16936883 0.1674252  0.16573545 0.16431059\n",
            " 0.1631016  0.1620459  0.16108325 0.16016413 0.15925278 0.15832649\n",
            " 0.15737352 0.15638991 0.15537682 0.15433812 0.15327887 0.15220416\n",
            " 0.15111852 0.1500258  0.14892898 0.14783029]\n",
            "22 day output [[0.14673142]]\n",
            "23 day input [0.34976514 0.36470618 0.3623326  0.36153308 0.35963422 0.35998401\n",
            " 0.35863482 0.36028383 0.35903458 0.35696082 0.36877873 0.36575555\n",
            " 0.36575555 0.36305717 0.36717969 0.36018389 0.3503398  0.35158905\n",
            " 0.35096442 0.36013392 0.35873476 0.35741055 0.36265741 0.36185789\n",
            " 0.35736058 0.3586598  0.35231361 0.34751649 0.34501799 0.35021487\n",
            " 0.35741055 0.3588347  0.35728563 0.3563362  0.3541625  0.35336298\n",
            " 0.34144513 0.34319408 0.34621727 0.35073956 0.35718569 0.36278233\n",
            " 0.35925944 0.36368179 0.3663302  0.36260744 0.35696082 0.35791025\n",
            " 0.35553668 0.35923446 0.36085848 0.35143914 0.35308815 0.35341295\n",
            " 0.35663602 0.33737258 0.3308265  0.33230062 0.3298271  0.32767839\n",
            " 0.31755946 0.30051969 0.29842095 0.26039376 0.2731611  0.24307915\n",
            " 0.23296022 0.22551469 0.20292824 0.20287827 0.1431641  0.14041575\n",
            " 0.15223366 0.15952928 0.16869878 0.17289626 0.17831801 0.17176838\n",
            " 0.17128296 0.16936883 0.1674252  0.16573545 0.16431059 0.1631016\n",
            " 0.1620459  0.16108325 0.16016413 0.15925278 0.15832649 0.15737352\n",
            " 0.15638991 0.15537682 0.15433812 0.15327887 0.15220416 0.15111852\n",
            " 0.1500258  0.14892898 0.14783029 0.14673142]\n",
            "23 day output [[0.1456336]]\n",
            "24 day input [0.36470618 0.3623326  0.36153308 0.35963422 0.35998401 0.35863482\n",
            " 0.36028383 0.35903458 0.35696082 0.36877873 0.36575555 0.36575555\n",
            " 0.36305717 0.36717969 0.36018389 0.3503398  0.35158905 0.35096442\n",
            " 0.36013392 0.35873476 0.35741055 0.36265741 0.36185789 0.35736058\n",
            " 0.3586598  0.35231361 0.34751649 0.34501799 0.35021487 0.35741055\n",
            " 0.3588347  0.35728563 0.3563362  0.3541625  0.35336298 0.34144513\n",
            " 0.34319408 0.34621727 0.35073956 0.35718569 0.36278233 0.35925944\n",
            " 0.36368179 0.3663302  0.36260744 0.35696082 0.35791025 0.35553668\n",
            " 0.35923446 0.36085848 0.35143914 0.35308815 0.35341295 0.35663602\n",
            " 0.33737258 0.3308265  0.33230062 0.3298271  0.32767839 0.31755946\n",
            " 0.30051969 0.29842095 0.26039376 0.2731611  0.24307915 0.23296022\n",
            " 0.22551469 0.20292824 0.20287827 0.1431641  0.14041575 0.15223366\n",
            " 0.15952928 0.16869878 0.17289626 0.17831801 0.17176838 0.17128296\n",
            " 0.16936883 0.1674252  0.16573545 0.16431059 0.1631016  0.1620459\n",
            " 0.16108325 0.16016413 0.15925278 0.15832649 0.15737352 0.15638991\n",
            " 0.15537682 0.15433812 0.15327887 0.15220416 0.15111852 0.1500258\n",
            " 0.14892898 0.14783029 0.14673142 0.14563359]\n",
            "24 day output [[0.14453769]]\n",
            "25 day input [0.3623326  0.36153308 0.35963422 0.35998401 0.35863482 0.36028383\n",
            " 0.35903458 0.35696082 0.36877873 0.36575555 0.36575555 0.36305717\n",
            " 0.36717969 0.36018389 0.3503398  0.35158905 0.35096442 0.36013392\n",
            " 0.35873476 0.35741055 0.36265741 0.36185789 0.35736058 0.3586598\n",
            " 0.35231361 0.34751649 0.34501799 0.35021487 0.35741055 0.3588347\n",
            " 0.35728563 0.3563362  0.3541625  0.35336298 0.34144513 0.34319408\n",
            " 0.34621727 0.35073956 0.35718569 0.36278233 0.35925944 0.36368179\n",
            " 0.3663302  0.36260744 0.35696082 0.35791025 0.35553668 0.35923446\n",
            " 0.36085848 0.35143914 0.35308815 0.35341295 0.35663602 0.33737258\n",
            " 0.3308265  0.33230062 0.3298271  0.32767839 0.31755946 0.30051969\n",
            " 0.29842095 0.26039376 0.2731611  0.24307915 0.23296022 0.22551469\n",
            " 0.20292824 0.20287827 0.1431641  0.14041575 0.15223366 0.15952928\n",
            " 0.16869878 0.17289626 0.17831801 0.17176838 0.17128296 0.16936883\n",
            " 0.1674252  0.16573545 0.16431059 0.1631016  0.1620459  0.16108325\n",
            " 0.16016413 0.15925278 0.15832649 0.15737352 0.15638991 0.15537682\n",
            " 0.15433812 0.15327887 0.15220416 0.15111852 0.1500258  0.14892898\n",
            " 0.14783029 0.14673142 0.14563359 0.14453769]\n",
            "25 day output [[0.14344437]]\n",
            "26 day input [0.36153308 0.35963422 0.35998401 0.35863482 0.36028383 0.35903458\n",
            " 0.35696082 0.36877873 0.36575555 0.36575555 0.36305717 0.36717969\n",
            " 0.36018389 0.3503398  0.35158905 0.35096442 0.36013392 0.35873476\n",
            " 0.35741055 0.36265741 0.36185789 0.35736058 0.3586598  0.35231361\n",
            " 0.34751649 0.34501799 0.35021487 0.35741055 0.3588347  0.35728563\n",
            " 0.3563362  0.3541625  0.35336298 0.34144513 0.34319408 0.34621727\n",
            " 0.35073956 0.35718569 0.36278233 0.35925944 0.36368179 0.3663302\n",
            " 0.36260744 0.35696082 0.35791025 0.35553668 0.35923446 0.36085848\n",
            " 0.35143914 0.35308815 0.35341295 0.35663602 0.33737258 0.3308265\n",
            " 0.33230062 0.3298271  0.32767839 0.31755946 0.30051969 0.29842095\n",
            " 0.26039376 0.2731611  0.24307915 0.23296022 0.22551469 0.20292824\n",
            " 0.20287827 0.1431641  0.14041575 0.15223366 0.15952928 0.16869878\n",
            " 0.17289626 0.17831801 0.17176838 0.17128296 0.16936883 0.1674252\n",
            " 0.16573545 0.16431059 0.1631016  0.1620459  0.16108325 0.16016413\n",
            " 0.15925278 0.15832649 0.15737352 0.15638991 0.15537682 0.15433812\n",
            " 0.15327887 0.15220416 0.15111852 0.1500258  0.14892898 0.14783029\n",
            " 0.14673142 0.14563359 0.14453769 0.14344437]\n",
            "26 day output [[0.14235418]]\n",
            "27 day input [0.35963422 0.35998401 0.35863482 0.36028383 0.35903458 0.35696082\n",
            " 0.36877873 0.36575555 0.36575555 0.36305717 0.36717969 0.36018389\n",
            " 0.3503398  0.35158905 0.35096442 0.36013392 0.35873476 0.35741055\n",
            " 0.36265741 0.36185789 0.35736058 0.3586598  0.35231361 0.34751649\n",
            " 0.34501799 0.35021487 0.35741055 0.3588347  0.35728563 0.3563362\n",
            " 0.3541625  0.35336298 0.34144513 0.34319408 0.34621727 0.35073956\n",
            " 0.35718569 0.36278233 0.35925944 0.36368179 0.3663302  0.36260744\n",
            " 0.35696082 0.35791025 0.35553668 0.35923446 0.36085848 0.35143914\n",
            " 0.35308815 0.35341295 0.35663602 0.33737258 0.3308265  0.33230062\n",
            " 0.3298271  0.32767839 0.31755946 0.30051969 0.29842095 0.26039376\n",
            " 0.2731611  0.24307915 0.23296022 0.22551469 0.20292824 0.20287827\n",
            " 0.1431641  0.14041575 0.15223366 0.15952928 0.16869878 0.17289626\n",
            " 0.17831801 0.17176838 0.17128296 0.16936883 0.1674252  0.16573545\n",
            " 0.16431059 0.1631016  0.1620459  0.16108325 0.16016413 0.15925278\n",
            " 0.15832649 0.15737352 0.15638991 0.15537682 0.15433812 0.15327887\n",
            " 0.15220416 0.15111852 0.1500258  0.14892898 0.14783029 0.14673142\n",
            " 0.14563359 0.14453769 0.14344437 0.14235418]\n",
            "27 day output [[0.14126746]]\n",
            "28 day input [0.35998401 0.35863482 0.36028383 0.35903458 0.35696082 0.36877873\n",
            " 0.36575555 0.36575555 0.36305717 0.36717969 0.36018389 0.3503398\n",
            " 0.35158905 0.35096442 0.36013392 0.35873476 0.35741055 0.36265741\n",
            " 0.36185789 0.35736058 0.3586598  0.35231361 0.34751649 0.34501799\n",
            " 0.35021487 0.35741055 0.3588347  0.35728563 0.3563362  0.3541625\n",
            " 0.35336298 0.34144513 0.34319408 0.34621727 0.35073956 0.35718569\n",
            " 0.36278233 0.35925944 0.36368179 0.3663302  0.36260744 0.35696082\n",
            " 0.35791025 0.35553668 0.35923446 0.36085848 0.35143914 0.35308815\n",
            " 0.35341295 0.35663602 0.33737258 0.3308265  0.33230062 0.3298271\n",
            " 0.32767839 0.31755946 0.30051969 0.29842095 0.26039376 0.2731611\n",
            " 0.24307915 0.23296022 0.22551469 0.20292824 0.20287827 0.1431641\n",
            " 0.14041575 0.15223366 0.15952928 0.16869878 0.17289626 0.17831801\n",
            " 0.17176838 0.17128296 0.16936883 0.1674252  0.16573545 0.16431059\n",
            " 0.1631016  0.1620459  0.16108325 0.16016413 0.15925278 0.15832649\n",
            " 0.15737352 0.15638991 0.15537682 0.15433812 0.15327887 0.15220416\n",
            " 0.15111852 0.1500258  0.14892898 0.14783029 0.14673142 0.14563359\n",
            " 0.14453769 0.14344437 0.14235418 0.14126746]\n",
            "28 day output [[0.14018461]]\n",
            "29 day input [0.35863482 0.36028383 0.35903458 0.35696082 0.36877873 0.36575555\n",
            " 0.36575555 0.36305717 0.36717969 0.36018389 0.3503398  0.35158905\n",
            " 0.35096442 0.36013392 0.35873476 0.35741055 0.36265741 0.36185789\n",
            " 0.35736058 0.3586598  0.35231361 0.34751649 0.34501799 0.35021487\n",
            " 0.35741055 0.3588347  0.35728563 0.3563362  0.3541625  0.35336298\n",
            " 0.34144513 0.34319408 0.34621727 0.35073956 0.35718569 0.36278233\n",
            " 0.35925944 0.36368179 0.3663302  0.36260744 0.35696082 0.35791025\n",
            " 0.35553668 0.35923446 0.36085848 0.35143914 0.35308815 0.35341295\n",
            " 0.35663602 0.33737258 0.3308265  0.33230062 0.3298271  0.32767839\n",
            " 0.31755946 0.30051969 0.29842095 0.26039376 0.2731611  0.24307915\n",
            " 0.23296022 0.22551469 0.20292824 0.20287827 0.1431641  0.14041575\n",
            " 0.15223366 0.15952928 0.16869878 0.17289626 0.17831801 0.17176838\n",
            " 0.17128296 0.16936883 0.1674252  0.16573545 0.16431059 0.1631016\n",
            " 0.1620459  0.16108325 0.16016413 0.15925278 0.15832649 0.15737352\n",
            " 0.15638991 0.15537682 0.15433812 0.15327887 0.15220416 0.15111852\n",
            " 0.1500258  0.14892898 0.14783029 0.14673142 0.14563359 0.14453769\n",
            " 0.14344437 0.14235418 0.14126746 0.14018461]\n",
            "29 day output [[0.13910587]]\n",
            "[[0.17176838219165802], [0.17128296196460724], [0.16936883330345154], [0.16742520034313202], [0.16573545336723328], [0.16431058943271637], [0.16310159862041473], [0.1620458960533142], [0.16108325123786926], [0.16016413271427155], [0.15925277769565582], [0.15832649171352386], [0.15737351775169373], [0.15638990700244904], [0.15537682175636292], [0.15433812141418457], [0.1532788723707199], [0.15220415592193604], [0.15111851692199707], [0.15002579987049103], [0.14892898499965668], [0.1478302925825119], [0.1467314213514328], [0.14563359320163727], [0.14453768730163574], [0.14344437420368195], [0.14235417544841766], [0.14126746356487274], [0.14018461108207703], [0.1391058713197708]]\n"
          ],
          "name": "stdout"
        }
      ]
    },
    {
      "cell_type": "code",
      "metadata": {
        "id": "Hli4u97ly4qG",
        "colab_type": "code",
        "colab": {}
      },
      "source": [
        "day_new=np.arange(1,101)\n",
        "day_pred=np.arange(101,131)"
      ],
      "execution_count": 0,
      "outputs": []
    },
    {
      "cell_type": "code",
      "metadata": {
        "id": "p54wLCRbzIFU",
        "colab_type": "code",
        "colab": {
          "base_uri": "https://localhost:8080/",
          "height": 34
        },
        "outputId": "d486fe7c-6ef3-4cfd-f61b-2f77f7bb6e24"
      },
      "source": [
        "len(df1)"
      ],
      "execution_count": 69,
      "outputs": [
        {
          "output_type": "execute_result",
          "data": {
            "text/plain": [
              "5041"
            ]
          },
          "metadata": {
            "tags": []
          },
          "execution_count": 69
        }
      ]
    },
    {
      "cell_type": "code",
      "metadata": {
        "id": "y6YSL9Y5zOLH",
        "colab_type": "code",
        "colab": {
          "base_uri": "https://localhost:8080/",
          "height": 282
        },
        "outputId": "e9c9d7e9-13f2-4dd7-982e-6bbdbae96599"
      },
      "source": [
        "plt.plot(day_new,scaler.inverse_transform(df1[4941:]))\n",
        "plt.plot(day_pred,scaler.inverse_transform(lst_output))"
      ],
      "execution_count": 70,
      "outputs": [
        {
          "output_type": "execute_result",
          "data": {
            "text/plain": [
              "[<matplotlib.lines.Line2D at 0x7f1607991d30>]"
            ]
          },
          "metadata": {
            "tags": []
          },
          "execution_count": 70
        },
        {
          "output_type": "display_data",
          "data": {
            "image/png": "[encoded data removed]",
            "text/plain": [
              "<Figure size 432x288 with 1 Axes>"
            ]
          },
          "metadata": {
            "tags": [],
            "needs_background": "light"
          }
        }
      ]
    },
    {
      "cell_type": "code",
      "metadata": {
        "id": "KMUgnL1NzSBZ",
        "colab_type": "code",
        "colab": {
          "base_uri": "https://localhost:8080/",
          "height": 282
        },
        "outputId": "a0265faa-c172-4ed5-8026-91f74929d7ab"
      },
      "source": [
        "df3=df1.tolist()\n",
        "df3.extend(lst_output)\n",
        "plt.plot(df3[4900:])"
      ],
      "execution_count": 73,
      "outputs": [
        {
          "output_type": "execute_result",
          "data": {
            "text/plain": [
              "[<matplotlib.lines.Line2D at 0x7f1607776710>]"
            ]
          },
          "metadata": {
            "tags": []
          },
          "execution_count": 73
        },
        {
          "output_type": "display_data",
          "data": {
            "image/png": "[encoded data removed]",
            "text/plain": [
              "<Figure size 432x288 with 1 Axes>"
            ]
          },
          "metadata": {
            "tags": [],
            "needs_background": "light"
          }
        }
      ]
    },
    {
      "cell_type": "code",
      "metadata": {
        "id": "slN4wEMvzaeI",
        "colab_type": "code",
        "colab": {
          "base_uri": "https://localhost:8080/",
          "height": 282
        },
        "outputId": "2fb0a03c-c674-4b78-ea23-855ca3774aeb"
      },
      "source": [
        "df3=scaler.inverse_transform(df3).tolist()\n",
        "plt.plot(df3)"
      ],
      "execution_count": 74,
      "outputs": [
        {
          "output_type": "execute_result",
          "data": {
            "text/plain": [
              "[<matplotlib.lines.Line2D at 0x7f16077afa58>]"
            ]
          },
          "metadata": {
            "tags": []
          },
          "execution_count": 74
        },
        {
          "output_type": "display_data",
          "data": {
            "image/png": "[encoded data removed]",
            "text/plain": [
              "<Figure size 432x288 with 1 Axes>"
            ]
          },
          "metadata": {
            "tags": [],
            "needs_background": "light"
          }
        }
      ]
    },
    {
      "cell_type": "code",
      "metadata": {
        "id": "Vs-Oahq7zofz",
        "colab_type": "code",
        "colab": {}
      },
      "source": [
        ""
      ],
      "execution_count": 0,
      "outputs": []
    }
  ]
}